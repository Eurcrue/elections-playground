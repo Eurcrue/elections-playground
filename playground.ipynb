{
 "cells": [
  {
   "cell_type": "code",
   "execution_count": 2,
   "metadata": {},
   "outputs": [],
   "source": [
    "import numpy as np\n",
    "import pandas as pd\n",
    "import matplotlib.pyplot as plt\n",
    "import scipy.stats as stat"
   ]
  },
  {
   "cell_type": "code",
   "execution_count": 53,
   "metadata": {},
   "outputs": [],
   "source": [
    "# Read in dataset and choose relevant columns\n",
    "house_df = pd.read_csv('1976-2022-house.csv')\n",
    "house_df = house_df[~house_df['special']]\n",
    "house_df = house_df[['year', 'state_po', 'district', 'candidate', 'party', 'candidatevotes', 'totalvotes']]\n",
    "\n",
    "house_df = house_df[(house_df['candidate'] != 'WRITEIN') & (house_df['candidate'] != 'SCATTERING')]\n",
    "house_df['party'] = house_df['party'].astype(str)\n",
    "\n",
    "# Make some simplifications about party affiliation\n",
    "house_df['party'] = house_df['party'].apply(lambda x : \n",
    "                                            'DEMOCRAT' if \n",
    "                                                (('DEMOCRAT' in x) or ('LIBERAL' in x)) else \n",
    "                                                ('REPUBLICAN' \n",
    "                                                    if (('REPUBLICAN' in x) or ('CONSERVATIVE' in x))\n",
    "                                                    else x)\n",
    ")\n",
    "house_df['party'] = house_df['party'].astype(str)\n",
    "\n",
    "# Renames state_po(stal code) column label to just state\n",
    "house_df['state'] = house_df['state_po']\n",
    "house_df = house_df[['year', 'state', 'district', 'candidate', 'party', 'candidatevotes', 'totalvotes']]\n",
    "\n",
    "# Find primary party of candidates in fusion tickets\n",
    "grouped = house_df.groupby(['year', 'state', 'district', 'candidate'])\n",
    "house_df = house_df.loc[grouped['candidatevotes'].idxmax()]\n",
    "\n",
    "# Find total votes for fusion tickets\n",
    "house_df = house_df[['year', 'state', 'district', 'candidate', 'party', 'totalvotes']]\n",
    "sums = grouped['candidatevotes'].sum().reset_index()\n",
    "house_df = pd.merge(house_df, sums, 'inner', on = ['year', 'state', 'district', 'candidate'])\n",
    "\n",
    "# Find total votes cast per party\n",
    "house_df = house_df.groupby(['year', 'state', 'district', 'party', 'totalvotes'])['candidatevotes'].sum().reset_index()\n",
    "\n",
    "# Aptly rename the candidatevotes no longer referring to candidates\n",
    "house_df['votes'] = house_df['candidatevotes']\n",
    "house_df = house_df[['year', 'state', 'district', 'party', 'votes', 'totalvotes']]\n",
    "\n",
    "# Filter only top two parties\n",
    "grouped = house_df.groupby(['year', 'state', 'district'])\n",
    "two_party_votes = grouped['votes'].apply(lambda x : x.sort_values().tail(2)).reset_index()\n",
    "\n",
    "# Calculate two party vote percentage\n",
    "two_party_votes['two_party_pct'] = two_party_votes['votes'] / two_party_votes.groupby(['year', 'state', 'district'])['votes'].transform('sum')\n",
    "\n",
    "house_df = pd.merge(house_df, two_party_votes, 'inner', on = ['year', 'state', 'district', 'votes'])\n",
    "house_df = house_df.drop(columns= ['level_3'])\n",
    "\n",
    "# Further simplification: The top two parties are always Democrat and Republican\n",
    "party_index = list(house_df.columns).index('party')\n",
    "def simplify(df):\n",
    "    if len(df) != 2: return df\n",
    "\n",
    "    if set(df['party']) == {'DEMOCRAT', 'REPUBLICAN'}: return df\n",
    "\n",
    "    copy = df.copy()\n",
    "\n",
    "    if copy.iat[0, party_index] not in {'DEMOCRAT', 'REPUBLICAN'}:\n",
    "        copy.iat[0, party_index] = 'DEMOCRAT' if ('REPUBLICAN' == copy.iat[1, party_index]) else 'REPUBLICAN'\n",
    "    \n",
    "    if copy.iat[1, party_index] not in {'DEMOCRAT', 'REPUBLICAN'}:\n",
    "        copy.iat[1, party_index] = 'DEMOCRAT' if ('REPUBLICAN' == copy.iat[0, party_index]) else 'REPUBLICAN'\n",
    "\n",
    "    if len(copy) == 2 and set(copy['party']) != {'DEMOCRAT', 'REPUBLICAN'}: \n",
    "        print(copy[(copy['party'] != 'DEMOCRAT') & (copy['party'] != 'REPUBLICAN')]['party'])\n",
    "    \n",
    "    return copy\n",
    "\n",
    "# Calculate total vote percentage\n",
    "grouped = house_df.groupby(['year', 'state', 'district'])\n",
    "house_df = grouped.apply(simplify).reset_index()\n",
    "house_df['total_pct'] = house_df['votes']/house_df['totalvotes']\n",
    "\n",
    "# Exporsts per district dataset\n",
    "house_df.to_csv(path_or_buf='1976-2022-house-two-party-vote-by-district.csv')\n",
    "\n",
    "# Simplification done by assuming that districts within a state:\n",
    "# a) Have the same population\n",
    "# b) Have the same proportion of voter (by-party) turnout\n",
    "# Necessary assumptions because lack of data regarding uncontested seats\n",
    "house_df = house_df.groupby(['year', 'state', 'party'])['two_party_pct'].mean()\n",
    "house_df.to_csv(path_or_buf='1976-2022-house-two-party-vote-by-state.csv')"
   ]
  },
  {
   "cell_type": "code",
   "execution_count": 45,
   "metadata": {},
   "outputs": [
    {
     "data": {
      "text/plain": [
       "3"
      ]
     },
     "execution_count": 45,
     "metadata": {},
     "output_type": "execute_result"
    }
   ],
   "source": []
  }
 ],
 "metadata": {
  "kernelspec": {
   "display_name": "base",
   "language": "python",
   "name": "python3"
  },
  "language_info": {
   "codemirror_mode": {
    "name": "ipython",
    "version": 3
   },
   "file_extension": ".py",
   "mimetype": "text/x-python",
   "name": "python",
   "nbconvert_exporter": "python",
   "pygments_lexer": "ipython3",
   "version": "3.9.12"
  }
 },
 "nbformat": 4,
 "nbformat_minor": 2
}
