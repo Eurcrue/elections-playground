{
 "cells": [
  {
   "cell_type": "code",
   "execution_count": 97,
   "metadata": {},
   "outputs": [],
   "source": [
    "import pandas as pd"
   ]
  },
  {
   "cell_type": "code",
   "execution_count": 98,
   "metadata": {},
   "outputs": [],
   "source": [
    "# Read in dataset and choose relevant columns\n",
    "house_df = pd.read_csv('1976-2022-house.csv')\n",
    "house_df = house_df[~house_df['special']]\n",
    "house_df = house_df[['year', 'state_po', 'district', 'candidate', 'party', 'candidatevotes', 'totalvotes']]\n",
    "\n",
    "house_df = house_df[(house_df['candidate'] != 'WRITEIN') & (house_df['candidate'] != 'SCATTERING')]\n",
    "house_df['party'] = house_df['party'].astype(str)"
   ]
  },
  {
   "cell_type": "code",
   "execution_count": 99,
   "metadata": {},
   "outputs": [],
   "source": [
    "# Make some simplifications about party affiliation\n",
    "house_df['party'] = house_df['party'].apply(lambda x : \n",
    "                                            'DEMOCRAT' if \n",
    "                                                (('DEMOCRAT' in x) or ('LIBERAL' in x)) else \n",
    "                                                ('REPUBLICAN' \n",
    "                                                    if (('REPUBLICAN' in x) or ('CONSERVATIVE' in x))\n",
    "                                                    else x)\n",
    ")\n",
    "house_df['party'] = house_df['party'].astype(str)"
   ]
  },
  {
   "cell_type": "code",
   "execution_count": 100,
   "metadata": {},
   "outputs": [],
   "source": [
    "# Renames state_po(stal code) column label to just state\n",
    "house_df['state'] = house_df['state_po']\n",
    "house_df = house_df[['year', 'state', 'district', 'candidate', 'party', 'candidatevotes', 'totalvotes']]"
   ]
  },
  {
   "cell_type": "code",
   "execution_count": 101,
   "metadata": {},
   "outputs": [],
   "source": [
    "# Find primary party of candidates in fusion tickets\n",
    "grouped = house_df.groupby(['year', 'state', 'district', 'candidate'])\n",
    "house_df = house_df.loc[grouped['candidatevotes'].idxmax()]"
   ]
  },
  {
   "cell_type": "code",
   "execution_count": 102,
   "metadata": {},
   "outputs": [],
   "source": [
    "# Find total votes for fusion tickets\n",
    "house_df = house_df[['year', 'state', 'district', 'candidate', 'party', 'totalvotes']]\n",
    "sums = grouped['candidatevotes'].sum().reset_index()\n",
    "house_df = pd.merge(house_df, sums, 'inner', on = ['year', 'state', 'district', 'candidate'])"
   ]
  },
  {
   "cell_type": "code",
   "execution_count": 103,
   "metadata": {},
   "outputs": [],
   "source": [
    "# Find total votes cast per party\n",
    "house_df = house_df.groupby(['year', 'state', 'district', 'party', 'totalvotes'])['candidatevotes'].sum().reset_index()"
   ]
  },
  {
   "cell_type": "code",
   "execution_count": 104,
   "metadata": {},
   "outputs": [],
   "source": [
    "# Aptly rename the candidatevotes no longer referring to candidates\n",
    "house_df['votes'] = house_df['candidatevotes']\n",
    "house_df = house_df[['year', 'state', 'district', 'party', 'votes', 'totalvotes']]"
   ]
  },
  {
   "cell_type": "code",
   "execution_count": 105,
   "metadata": {},
   "outputs": [],
   "source": [
    "# Filter only top two parties\n",
    "grouped = house_df.groupby(['year', 'state', 'district'])\n",
    "two_party_votes = grouped['votes'].apply(lambda x : x.sort_values().tail(2)).reset_index()"
   ]
  },
  {
   "cell_type": "code",
   "execution_count": 106,
   "metadata": {},
   "outputs": [],
   "source": [
    "# Calculate two party vote percentage\n",
    "two_party_votes['two_party_pct'] = two_party_votes['votes'] / two_party_votes.groupby(['year', 'state', 'district'])['votes'].transform('sum')\n",
    "\n",
    "house_df = pd.merge(house_df, two_party_votes, 'inner', on = ['year', 'state', 'district', 'votes'])\n",
    "house_df = house_df.drop(columns= ['level_3'])"
   ]
  },
  {
   "cell_type": "code",
   "execution_count": 107,
   "metadata": {},
   "outputs": [],
   "source": [
    "# Further simplification: The top two parties are always Democrat and Republican\n",
    "party_index = list(house_df.columns).index('party')\n",
    "def simplify(df):\n",
    "    if set(df['party']) == {'DEMOCRAT', 'REPUBLICAN'}: return df\n",
    "\n",
    "    copy = df.copy()\n",
    "\n",
    "    if len(copy) == 1:\n",
    "        copy.loc[1] = copy.iloc[0].copy()\n",
    "        copy.iat[1, party_index] = \"\"\n",
    "        copy.iat[1, 4] = 0\n",
    "        copy.iat[1,6] = 0\n",
    "\n",
    "    if copy.iat[0, party_index] not in {'DEMOCRAT', 'REPUBLICAN'}:\n",
    "        copy.iat[0, party_index] = 'DEMOCRAT' if ('REPUBLICAN' == copy.iat[1, party_index]) else 'REPUBLICAN'\n",
    "    \n",
    "    if copy.iat[1, party_index] not in {'DEMOCRAT', 'REPUBLICAN'}:\n",
    "        copy.iat[1, party_index] = 'DEMOCRAT' if ('REPUBLICAN' == copy.iat[0, party_index]) else 'REPUBLICAN'\n",
    "    \n",
    "    return copy"
   ]
  },
  {
   "cell_type": "code",
   "execution_count": 108,
   "metadata": {},
   "outputs": [],
   "source": [
    "# Calculate total vote percentage\n",
    "grouped = house_df.groupby(['year', 'state', 'district'])\n",
    "house_df = grouped.apply(simplify).reset_index(drop = True)\n",
    "house_df['total_pct'] = house_df['votes']/house_df['totalvotes']"
   ]
  },
  {
   "cell_type": "code",
   "execution_count": 109,
   "metadata": {},
   "outputs": [],
   "source": [
    "# Exports per district dataset\n",
    "house_df.to_csv(path_or_buf='1976-2022-house-two-party-vote-by-district.csv', index = False)"
   ]
  },
  {
   "cell_type": "code",
   "execution_count": 110,
   "metadata": {},
   "outputs": [],
   "source": [
    "# Simplification done by assuming that districts within a state:\n",
    "# a) Have the same population~\n",
    "# b) Have the same proportion of voter (by-party) turnout\n",
    "# Necessary assumptions because lack of data regarding uncontested seats\n",
    "house_df['sum_pcts'] = house_df.groupby(['year', 'state'])['two_party_pct'].transform('sum')\n",
    "house_df = house_df.groupby(['year', 'state', 'party', 'sum_pcts'])['two_party_pct'].sum().reset_index()\n",
    "house_df['two_party_pct'] /= house_df['sum_pcts']\n",
    "house_df = house_df.drop(columns=['sum_pcts'])"
   ]
  },
  {
   "cell_type": "code",
   "execution_count": 111,
   "metadata": {},
   "outputs": [],
   "source": [
    "# Exports per state dataset\n",
    "house_df.to_csv(path_or_buf='1976-2022-house-two-party-vote-by-state.csv', index = False)"
   ]
  }
 ],
 "metadata": {
  "kernelspec": {
   "display_name": "base",
   "language": "python",
   "name": "python3"
  },
  "language_info": {
   "codemirror_mode": {
    "name": "ipython",
    "version": 3
   },
   "file_extension": ".py",
   "mimetype": "text/x-python",
   "name": "python",
   "nbconvert_exporter": "python",
   "pygments_lexer": "ipython3",
   "version": "3.9.17"
  }
 },
 "nbformat": 4,
 "nbformat_minor": 2
}
